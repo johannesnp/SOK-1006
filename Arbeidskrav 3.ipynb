{
 "cells": [
  {
   "cell_type": "markdown",
   "id": "154aef80-ecdb-4f3b-800c-360535d5ae10",
   "metadata": {},
   "source": [
    "# SOK-1006 V23\n",
    "\n",
    "## Arbeidskrav 3\n",
    "\n",
    "### Frist fredag 10. februar kl 18.00 i Canvas\n",
    "\n",
    "**Lever inn lenken til ditt repo på GitHub hvor løsningen ligger**. Individuell innlevering.\n",
    "\n",
    "Se Jupyter notatblokk \"Forsmak mappe 1\" for et forslag til fremgangsmåte her, og kap 9 i boka. Samt forelesning 08.02.\n",
    "\n",
    "Vi ser på markedet for oppdrettslaks på s. 101-104 i boka, og som vi har analysert i forelesning 5.      \n",
    "\n",
    "Med en stykkavgift på $t$ kr per enhet pålagt selgere kan vi skrive etterspørsel og tilbud i (1) og (2):   \n",
    "\n",
    "\n",
    "\\begin{equation}\n",
    "   x^{D}= 500 -3.2p\\tag{1}\n",
    "\\end{equation}\n",
    "\n",
    "og tilbud:\n",
    "\n",
    "\n",
    "\\begin{equation}\n",
    "   x^{S}= -100 + 4.3(p-t)\\tag{2}\n",
    "\\end{equation}\n",
    "\n",
    "1. Finn likevektspris og -kvantum for alle verdier av $t$.        \n",
    "2. Finn uttrykk for konsument- og produsentoverskudd, samt avgiftproveny.           \n",
    "2. Tegn likevekten for $t=0$ og fargelegg KO og PO.     \n",
    "2. Tegn inn likevekten for $t=4$, og fargelegg avgiftproveny.      \n",
    "4. Bruk de uttrykkene som du har laget for å fylle ut følgende tabell. NB det er mening at du skal fylle ut tabellen med uttrykk som du har regnet i koden (ikke skriv inn tall manuelt - se Forsmak mappe 1.ipynb)."
   ]
  },
  {
   "cell_type": "code",
   "execution_count": 1,
   "id": "95727e2b",
   "metadata": {},
   "outputs": [],
   "source": [
    "import numpy as np\n",
    "from matplotlib import pyplot as plt\n",
    "import sympy as sp"
   ]
  },
  {
   "cell_type": "code",
   "execution_count": 24,
   "id": "11ff0014",
   "metadata": {},
   "outputs": [
    {
     "data": {
      "text/plain": [
       "[0.573333333333333*t + 80.0]"
      ]
     },
     "execution_count": 24,
     "metadata": {},
     "output_type": "execute_result"
    }
   ],
   "source": [
    "# Oppgave 1\n",
    "\n",
    "def demand(p):\n",
    "    return 500-3.2*p\n",
    "\n",
    "def supply(p, t):\n",
    "    return -100+4.3*(p-t)\n",
    "\n",
    "p, t = sp.symbols('p t')\n",
    "condition= sp.Eq(demand(p),supply(p, t))\n",
    "condition\n",
    "\n",
    "#Løser for pris\n",
    "likepris = sp.solve(condition, p)\n",
    "likepris\n"
   ]
  },
  {
   "cell_type": "code",
   "execution_count": 28,
   "id": "39442cea",
   "metadata": {},
   "outputs": [
    {
     "data": {
      "text/latex": [
       "$\\displaystyle 244.0 - 1.83466666666667 t$"
      ],
      "text/plain": [
       "244.0 - 1.83466666666667*t"
      ]
     },
     "execution_count": 28,
     "metadata": {},
     "output_type": "execute_result"
    }
   ],
   "source": [
    "likekvantum = demand(likepris[0])\n",
    "likekvantum"
   ]
  },
  {
   "cell_type": "code",
   "execution_count": 30,
   "id": "bf28aa9d",
   "metadata": {},
   "outputs": [
    {
     "name": "stdout",
     "output_type": "stream",
     "text": [
      "Likevektspris er 0.573333333333333*t + 80.0 og likevektskvantumet er 244.0 - 1.83466666666667*t\n"
     ]
    }
   ],
   "source": [
    "print('Likevektspris er', likepris[0], 'og likevektskvantumet er', likekvantum)"
   ]
  },
  {
   "cell_type": "code",
   "execution_count": null,
   "id": "4b661df1",
   "metadata": {},
   "outputs": [],
   "source": [
    "#Oppgave 2\n",
    "\n"
   ]
  },
  {
   "cell_type": "markdown",
   "id": "084dccba-b3e9-42fb-8f86-edaf6f019056",
   "metadata": {},
   "source": [
    "|                     | Før avgift            |Etter avgift    | Endring (etter avgift-før avgift)|\n",
    "| :-------------------| :----------------------------------------|:-------------|:---------------|\n",
    "| Konsumentpris   |     | |  |\n",
    "|Produsentpris  | |   |  |\n",
    "|Kvantum  |  |   |    |\n",
    "| Konsumentoverskudd: |  | |     |\n",
    "| Produsentoverskudd: | |  |   |\n",
    "| KO + PO:    |    | |  |\n",
    "|Skatteproveny| 0  | | |\n",
    "| Dødvektstap  |0   |   ||"
   ]
  }
 ],
 "metadata": {
  "kernelspec": {
   "display_name": "Python 3",
   "language": "python",
   "name": "python3"
  },
  "language_info": {
   "codemirror_mode": {
    "name": "ipython",
    "version": 3
   },
   "file_extension": ".py",
   "mimetype": "text/x-python",
   "name": "python",
   "nbconvert_exporter": "python",
   "pygments_lexer": "ipython3",
   "version": "3.11.0"
  },
  "vscode": {
   "interpreter": {
    "hash": "aee8b7b246df8f9039afb4144a1f6fd8d2ca17a180786b69acc140d282b71a49"
   }
  }
 },
 "nbformat": 4,
 "nbformat_minor": 5
}
